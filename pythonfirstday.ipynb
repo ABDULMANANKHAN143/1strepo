{
 "cells": [
  {
   "cell_type": "markdown",
   "id": "077235c2",
   "metadata": {},
   "source": [
    "#First Day Python"
   ]
  },
  {
   "cell_type": "code",
   "execution_count": 1,
   "id": "2310af26",
   "metadata": {},
   "outputs": [
    {
     "name": "stdout",
     "output_type": "stream",
     "text": [
      "Hallo,Wold\n"
     ]
    }
   ],
   "source": [
    "print(\"Hallo,Wold\")"
   ]
  }
 ],
 "metadata": {
  "kernelspec": {
   "display_name": "Python 3",
   "language": "python",
   "name": "python3"
  },
  "language_info": {
   "codemirror_mode": {
    "name": "ipython",
    "version": 3
   },
   "file_extension": ".py",
   "mimetype": "text/x-python",
   "name": "python",
   "nbconvert_exporter": "python",
   "pygments_lexer": "ipython3",
   "version": "3.12.7"
  }
 },
 "nbformat": 4,
 "nbformat_minor": 5
}
